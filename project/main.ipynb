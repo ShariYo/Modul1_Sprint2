{
 "cells": [
  {
   "cell_type": "markdown",
   "metadata": {},
   "source": [
    "# Spotify data analysis project"
   ]
  },
  {
   "cell_type": "markdown",
   "metadata": {},
   "source": [
    "## Dataset import"
   ]
  },
  {
   "cell_type": "markdown",
   "metadata": {},
   "source": [
    "Cell is used for reading given dataset and getting short info of it"
   ]
  },
  {
   "cell_type": "code",
   "execution_count": 26,
   "metadata": {},
   "outputs": [
    {
     "name": "stdout",
     "output_type": "stream",
     "text": [
      "<class 'pandas.core.frame.DataFrame'>\n",
      "Index: 50 entries, 0 to 49\n",
      "Data columns (total 16 columns):\n",
      " #   Column            Non-Null Count  Dtype  \n",
      "---  ------            --------------  -----  \n",
      " 0   artist            50 non-null     object \n",
      " 1   album             50 non-null     object \n",
      " 2   track_name        50 non-null     object \n",
      " 3   track_id          50 non-null     object \n",
      " 4   energy            50 non-null     float64\n",
      " 5   danceability      50 non-null     float64\n",
      " 6   key               50 non-null     int64  \n",
      " 7   loudness          50 non-null     float64\n",
      " 8   acousticness      50 non-null     float64\n",
      " 9   speechiness       50 non-null     float64\n",
      " 10  instrumentalness  50 non-null     float64\n",
      " 11  liveness          50 non-null     float64\n",
      " 12  valence           50 non-null     float64\n",
      " 13  tempo             50 non-null     float64\n",
      " 14  duration_ms       50 non-null     int64  \n",
      " 15  genre             50 non-null     object \n",
      "dtypes: float64(9), int64(2), object(5)\n",
      "memory usage: 6.6+ KB\n"
     ]
    }
   ],
   "source": [
    "import pandas as pd\n",
    "import numpy as np\n",
    "\n",
    "file = r\"D:\\IT_projects\\Turing_Colledge\\Modul1\\Sprint2\\project\\spotifytoptracks.csv\"\n",
    "raw_df = pd.read_csv(file, index_col=0)\n",
    "raw_df.info()"
   ]
  },
  {
   "cell_type": "markdown",
   "metadata": {},
   "source": [
    "Of the given dataset info 50 observations of  \n",
    "16 features with 3 different Dtypes can be seen"
   ]
  },
  {
   "cell_type": "code",
   "execution_count": 27,
   "metadata": {},
   "outputs": [
    {
     "data": {
      "text/html": [
       "<div>\n",
       "<style scoped>\n",
       "    .dataframe tbody tr th:only-of-type {\n",
       "        vertical-align: middle;\n",
       "    }\n",
       "\n",
       "    .dataframe tbody tr th {\n",
       "        vertical-align: top;\n",
       "    }\n",
       "\n",
       "    .dataframe thead th {\n",
       "        text-align: right;\n",
       "    }\n",
       "</style>\n",
       "<table border=\"1\" class=\"dataframe\">\n",
       "  <thead>\n",
       "    <tr style=\"text-align: right;\">\n",
       "      <th></th>\n",
       "      <th>artist</th>\n",
       "      <th>album</th>\n",
       "      <th>track_name</th>\n",
       "      <th>track_id</th>\n",
       "      <th>energy</th>\n",
       "      <th>danceability</th>\n",
       "      <th>key</th>\n",
       "      <th>loudness</th>\n",
       "      <th>acousticness</th>\n",
       "      <th>speechiness</th>\n",
       "      <th>instrumentalness</th>\n",
       "      <th>liveness</th>\n",
       "      <th>valence</th>\n",
       "      <th>tempo</th>\n",
       "      <th>duration_ms</th>\n",
       "      <th>genre</th>\n",
       "    </tr>\n",
       "  </thead>\n",
       "  <tbody>\n",
       "    <tr>\n",
       "      <th>0</th>\n",
       "      <td>The Weeknd</td>\n",
       "      <td>After Hours</td>\n",
       "      <td>Blinding Lights</td>\n",
       "      <td>0VjIjW4GlUZAMYd2vXMi3b</td>\n",
       "      <td>0.730</td>\n",
       "      <td>0.514</td>\n",
       "      <td>1</td>\n",
       "      <td>-5.934</td>\n",
       "      <td>0.00146</td>\n",
       "      <td>0.0598</td>\n",
       "      <td>0.000095</td>\n",
       "      <td>0.0897</td>\n",
       "      <td>0.334</td>\n",
       "      <td>171.005</td>\n",
       "      <td>200040</td>\n",
       "      <td>R&amp;B/Soul</td>\n",
       "    </tr>\n",
       "    <tr>\n",
       "      <th>1</th>\n",
       "      <td>Tones And I</td>\n",
       "      <td>Dance Monkey</td>\n",
       "      <td>Dance Monkey</td>\n",
       "      <td>1rgnBhdG2JDFTbYkYRZAku</td>\n",
       "      <td>0.593</td>\n",
       "      <td>0.825</td>\n",
       "      <td>6</td>\n",
       "      <td>-6.401</td>\n",
       "      <td>0.68800</td>\n",
       "      <td>0.0988</td>\n",
       "      <td>0.000161</td>\n",
       "      <td>0.1700</td>\n",
       "      <td>0.540</td>\n",
       "      <td>98.078</td>\n",
       "      <td>209755</td>\n",
       "      <td>Alternative/Indie</td>\n",
       "    </tr>\n",
       "    <tr>\n",
       "      <th>2</th>\n",
       "      <td>Roddy Ricch</td>\n",
       "      <td>Please Excuse Me For Being Antisocial</td>\n",
       "      <td>The Box</td>\n",
       "      <td>0nbXyq5TXYPCO7pr3N8S4I</td>\n",
       "      <td>0.586</td>\n",
       "      <td>0.896</td>\n",
       "      <td>10</td>\n",
       "      <td>-6.687</td>\n",
       "      <td>0.10400</td>\n",
       "      <td>0.0559</td>\n",
       "      <td>0.000000</td>\n",
       "      <td>0.7900</td>\n",
       "      <td>0.642</td>\n",
       "      <td>116.971</td>\n",
       "      <td>196653</td>\n",
       "      <td>Hip-Hop/Rap</td>\n",
       "    </tr>\n",
       "  </tbody>\n",
       "</table>\n",
       "</div>"
      ],
      "text/plain": [
       "        artist                                  album       track_name  \\\n",
       "0   The Weeknd                            After Hours  Blinding Lights   \n",
       "1  Tones And I                           Dance Monkey     Dance Monkey   \n",
       "2  Roddy Ricch  Please Excuse Me For Being Antisocial          The Box   \n",
       "\n",
       "                 track_id  energy  danceability  key  loudness  acousticness  \\\n",
       "0  0VjIjW4GlUZAMYd2vXMi3b   0.730         0.514    1    -5.934       0.00146   \n",
       "1  1rgnBhdG2JDFTbYkYRZAku   0.593         0.825    6    -6.401       0.68800   \n",
       "2  0nbXyq5TXYPCO7pr3N8S4I   0.586         0.896   10    -6.687       0.10400   \n",
       "\n",
       "   speechiness  instrumentalness  liveness  valence    tempo  duration_ms  \\\n",
       "0       0.0598          0.000095    0.0897    0.334  171.005       200040   \n",
       "1       0.0988          0.000161    0.1700    0.540   98.078       209755   \n",
       "2       0.0559          0.000000    0.7900    0.642  116.971       196653   \n",
       "\n",
       "               genre  \n",
       "0           R&B/Soul  \n",
       "1  Alternative/Indie  \n",
       "2        Hip-Hop/Rap  "
      ]
     },
     "execution_count": 27,
     "metadata": {},
     "output_type": "execute_result"
    }
   ],
   "source": [
    "raw_df.head(3)"
   ]
  },
  {
   "cell_type": "markdown",
   "metadata": {},
   "source": [
    "The .head() function was used to check how visually dataframe  \n",
    "looks like and if there are any anomalies to be worried about."
   ]
  },
  {
   "cell_type": "markdown",
   "metadata": {},
   "source": [
    "## Data clean"
   ]
  },
  {
   "cell_type": "markdown",
   "metadata": {},
   "source": [
    "Dataframe cleaning was performed by  \n",
    "- stripping empty spaces of column labels;  \n",
    "- changing \"key\" column's Dtype to object (because it does  \n",
    "not has any true numeric value);  \n",
    "- checking for duplicates;  \n",
    "- checking for NaN values;  \n",
    "- checking for empty cells."
   ]
  },
  {
   "cell_type": "code",
   "execution_count": 28,
   "metadata": {},
   "outputs": [
    {
     "name": "stdout",
     "output_type": "stream",
     "text": [
      "There are no duplicates, NaN values or empty cells in dataframe\n",
      "\n"
     ]
    },
    {
     "data": {
      "text/html": [
       "<div>\n",
       "<style scoped>\n",
       "    .dataframe tbody tr th:only-of-type {\n",
       "        vertical-align: middle;\n",
       "    }\n",
       "\n",
       "    .dataframe tbody tr th {\n",
       "        vertical-align: top;\n",
       "    }\n",
       "\n",
       "    .dataframe thead th {\n",
       "        text-align: right;\n",
       "    }\n",
       "</style>\n",
       "<table border=\"1\" class=\"dataframe\">\n",
       "  <thead>\n",
       "    <tr style=\"text-align: right;\">\n",
       "      <th></th>\n",
       "      <th>energy</th>\n",
       "      <th>danceability</th>\n",
       "      <th>loudness</th>\n",
       "      <th>acousticness</th>\n",
       "      <th>speechiness</th>\n",
       "      <th>instrumentalness</th>\n",
       "      <th>liveness</th>\n",
       "      <th>valence</th>\n",
       "      <th>tempo</th>\n",
       "      <th>duration_ms</th>\n",
       "    </tr>\n",
       "  </thead>\n",
       "  <tbody>\n",
       "    <tr>\n",
       "      <th>0</th>\n",
       "      <td>0.730</td>\n",
       "      <td>0.514</td>\n",
       "      <td>-5.934</td>\n",
       "      <td>0.00146</td>\n",
       "      <td>0.0598</td>\n",
       "      <td>0.000095</td>\n",
       "      <td>0.0897</td>\n",
       "      <td>0.334</td>\n",
       "      <td>171.005</td>\n",
       "      <td>200040</td>\n",
       "    </tr>\n",
       "    <tr>\n",
       "      <th>1</th>\n",
       "      <td>0.593</td>\n",
       "      <td>0.825</td>\n",
       "      <td>-6.401</td>\n",
       "      <td>0.68800</td>\n",
       "      <td>0.0988</td>\n",
       "      <td>0.000161</td>\n",
       "      <td>0.1700</td>\n",
       "      <td>0.540</td>\n",
       "      <td>98.078</td>\n",
       "      <td>209755</td>\n",
       "    </tr>\n",
       "    <tr>\n",
       "      <th>2</th>\n",
       "      <td>0.586</td>\n",
       "      <td>0.896</td>\n",
       "      <td>-6.687</td>\n",
       "      <td>0.10400</td>\n",
       "      <td>0.0559</td>\n",
       "      <td>0.000000</td>\n",
       "      <td>0.7900</td>\n",
       "      <td>0.642</td>\n",
       "      <td>116.971</td>\n",
       "      <td>196653</td>\n",
       "    </tr>\n",
       "  </tbody>\n",
       "</table>\n",
       "</div>"
      ],
      "text/plain": [
       "   energy  danceability  loudness  acousticness  speechiness  \\\n",
       "0   0.730         0.514    -5.934       0.00146       0.0598   \n",
       "1   0.593         0.825    -6.401       0.68800       0.0988   \n",
       "2   0.586         0.896    -6.687       0.10400       0.0559   \n",
       "\n",
       "   instrumentalness  liveness  valence    tempo  duration_ms  \n",
       "0          0.000095    0.0897    0.334  171.005       200040  \n",
       "1          0.000161    0.1700    0.540   98.078       209755  \n",
       "2          0.000000    0.7900    0.642  116.971       196653  "
      ]
     },
     "execution_count": 28,
     "metadata": {},
     "output_type": "execute_result"
    }
   ],
   "source": [
    "raw_df.columns = raw_df.columns.str.strip()\n",
    "raw_df['key'] = raw_df['key'].astype('object')\n",
    "duplicates = raw_df.duplicated().any()\n",
    "nans = raw_df.isna().any().any()\n",
    "empties = (raw_df == \"\").any().any()\n",
    "if duplicates == True:\n",
    "    print(\"There are duplicated rows in dataframe\")\n",
    "elif nans == True:\n",
    "    print(\"There are NaN values in dataframe\")\n",
    "elif empties == True:\n",
    "    print(\"There are empty cells in dataframe\")\n",
    "else:\n",
    "    print(\"There are no duplicates, NaN values or empty cells in dataframe\\n\")\n",
    "\n",
    "numeric_columns = [\n",
    "    \"energy\",\n",
    "    \"danceability\",\n",
    "    \"loudness\",\n",
    "    \"acousticness\",\n",
    "    \"speechiness\",\n",
    "    \"instrumentalness\",\n",
    "    \"liveness\",\n",
    "    \"valence\",\n",
    "    \"tempo\",\n",
    "    \"duration_ms\",\n",
    "]\n",
    "numeric_df = raw_df[numeric_columns]\n",
    "numeric_df.head(3)"
   ]
  },
  {
   "cell_type": "markdown",
   "metadata": {},
   "source": [
    "Performed scriped showed no duplicates, NaN values or empty cells in dataframe.  \n",
    "Dataframe for only numeric values was created for following analysis."
   ]
  },
  {
   "cell_type": "markdown",
   "metadata": {},
   "source": [
    "### Outliers for numeric value columns"
   ]
  },
  {
   "cell_type": "markdown",
   "metadata": {},
   "source": [
    "Outliers for all numeric values were sorted out by  \n",
    "locking min/max indexes of the .describe() function's given table."
   ]
  },
  {
   "cell_type": "code",
   "execution_count": 29,
   "metadata": {},
   "outputs": [
    {
     "data": {
      "text/html": [
       "<div>\n",
       "<style scoped>\n",
       "    .dataframe tbody tr th:only-of-type {\n",
       "        vertical-align: middle;\n",
       "    }\n",
       "\n",
       "    .dataframe tbody tr th {\n",
       "        vertical-align: top;\n",
       "    }\n",
       "\n",
       "    .dataframe thead th {\n",
       "        text-align: right;\n",
       "    }\n",
       "</style>\n",
       "<table border=\"1\" class=\"dataframe\">\n",
       "  <thead>\n",
       "    <tr style=\"text-align: right;\">\n",
       "      <th></th>\n",
       "      <th>energy</th>\n",
       "      <th>danceability</th>\n",
       "      <th>loudness</th>\n",
       "      <th>acousticness</th>\n",
       "      <th>speechiness</th>\n",
       "      <th>instrumentalness</th>\n",
       "      <th>liveness</th>\n",
       "      <th>valence</th>\n",
       "      <th>tempo</th>\n",
       "      <th>duration_ms</th>\n",
       "    </tr>\n",
       "  </thead>\n",
       "  <tbody>\n",
       "    <tr>\n",
       "      <th>min</th>\n",
       "      <td>0.225</td>\n",
       "      <td>0.351</td>\n",
       "      <td>-14.454</td>\n",
       "      <td>0.00146</td>\n",
       "      <td>0.029</td>\n",
       "      <td>0.000</td>\n",
       "      <td>0.0574</td>\n",
       "      <td>0.0605</td>\n",
       "      <td>75.801</td>\n",
       "      <td>140526.0</td>\n",
       "    </tr>\n",
       "    <tr>\n",
       "      <th>max</th>\n",
       "      <td>0.855</td>\n",
       "      <td>0.935</td>\n",
       "      <td>-3.280</td>\n",
       "      <td>0.93400</td>\n",
       "      <td>0.487</td>\n",
       "      <td>0.657</td>\n",
       "      <td>0.7920</td>\n",
       "      <td>0.9250</td>\n",
       "      <td>180.067</td>\n",
       "      <td>312820.0</td>\n",
       "    </tr>\n",
       "  </tbody>\n",
       "</table>\n",
       "</div>"
      ],
      "text/plain": [
       "     energy  danceability  loudness  acousticness  speechiness  \\\n",
       "min   0.225         0.351   -14.454       0.00146        0.029   \n",
       "max   0.855         0.935    -3.280       0.93400        0.487   \n",
       "\n",
       "     instrumentalness  liveness  valence    tempo  duration_ms  \n",
       "min             0.000    0.0574   0.0605   75.801     140526.0  \n",
       "max             0.657    0.7920   0.9250  180.067     312820.0  "
      ]
     },
     "execution_count": 29,
     "metadata": {},
     "output_type": "execute_result"
    }
   ],
   "source": [
    "stats = numeric_df.describe()\n",
    "min_out = stats.loc[[\"min\", \"max\"]]\n",
    "min_out"
   ]
  },
  {
   "cell_type": "markdown",
   "metadata": {},
   "source": [
    "## Exploratory analysis"
   ]
  },
  {
   "cell_type": "markdown",
   "metadata": {},
   "source": [
    "Answers to the Questions which required no more than 1 line code to answer  \n",
    "were printed out in one code cell."
   ]
  },
  {
   "cell_type": "code",
   "execution_count": 30,
   "metadata": {},
   "outputs": [
    {
     "name": "stdout",
     "output_type": "stream",
     "text": [
      "There are 50 observations and 16 features\n",
      "\n",
      "These are categorical features: artist, album, track_name, track_id, key, genre\n",
      "\n",
      "These are numeric features: energy, danceability, loudness, acousticness, speechiness, instrumentalness, liveness, valence, tempo, duration_ms\n",
      "\n",
      "The Weeknd is the most popular artist\n",
      "\n",
      "In total there are 40 artists that reached TOP 50\n",
      "\n",
      "In total there are 45 albums that reached TOP 50\n",
      "\n",
      "The longest track is named: SICKO MODE\n",
      "\n",
      "The shortest track is named: Mood (feat. iann dior)\n"
     ]
    }
   ],
   "source": [
    "shp = raw_df.shape\n",
    "catf = raw_df.dtypes\n",
    "catf_list = list(raw_df.select_dtypes(include=[\"object\"]).columns)\n",
    "numf_list = list(raw_df.select_dtypes(include=np.number).columns)\n",
    "the_most = raw_df[\"artist\"][0]\n",
    "total_art = raw_df[\"artist\"].unique()\n",
    "total_albs = raw_df[\"album\"].unique()\n",
    "track_longest = raw_df[\"track_name\"].loc[np.argmax(raw_df[\"duration_ms\"])]\n",
    "track_shortest = raw_df[\"track_name\"].loc[np.argmin(raw_df[\"duration_ms\"])]\n",
    "\n",
    "\n",
    "print(f\"There are {shp[0]} observations and {shp[1]} features\")\n",
    "print(\"\\nThese are categorical features:\", \", \".join(catf_list))\n",
    "print(\"\\nThese are numeric features:\", \", \".join(numf_list))\n",
    "print(f\"\\n{the_most} is the most popular artist\")\n",
    "print(f\"\\nIn total there are {len(total_art)} artists that reached TOP 50\")\n",
    "print(f\"\\nIn total there are {len(total_albs)} albums that reached TOP 50\")\n",
    "print(f\"\\nThe longest track is named: {track_longest}\")\n",
    "print(f\"\\nThe shortest track is named: {track_shortest}\")"
   ]
  },
  {
   "cell_type": "markdown",
   "metadata": {},
   "source": [
    "### More than 1 popular track artists"
   ]
  },
  {
   "cell_type": "markdown",
   "metadata": {},
   "source": [
    "Firstly, duplicates of artists column were selected because  \n",
    "if there are same artist few times he probably has different tracks.  \n",
    "Secondly, all duplicates were grouped by \"artist\" column and checked  \n",
    "how many songs each artist has."
   ]
  },
  {
   "cell_type": "code",
   "execution_count": 31,
   "metadata": {},
   "outputs": [
    {
     "name": "stdout",
     "output_type": "stream",
     "text": [
      "These are 7 artists that have more than 1 popular track:\n",
      "           artist  no_of_tracks\n",
      "0  Billie Eilish             3\n",
      "1       Dua Lipa             3\n",
      "2   Harry Styles             2\n",
      "3  Justin Bieber             2\n",
      "4  Lewis Capaldi             2\n",
      "5    Post Malone             2\n",
      "6   Travis Scott             3\n"
     ]
    }
   ],
   "source": [
    "dupls = raw_df[raw_df.duplicated(subset=[\"artist\"], keep=False)]\n",
    "dupls_no = dupls.groupby(\"artist\").size().reset_index(name=\"no_of_tracks\")\n",
    "\n",
    "print(\n",
    "    f\"These are {len(dupls_no)} artists that have more than 1 popular track:\\n\",\n",
    "    dupls_no,\n",
    ")"
   ]
  },
  {
   "cell_type": "markdown",
   "metadata": {},
   "source": [
    "It can be seen that there are 7 artists with 2 or 3  \n",
    "songs at Spotify TOP 50."
   ]
  },
  {
   "cell_type": "markdown",
   "metadata": {},
   "source": [
    "### More than 1 popular track albums"
   ]
  },
  {
   "cell_type": "markdown",
   "metadata": {},
   "source": [
    "Idea is basically the same, but this time a little bit different  \n",
    "code was used for variety. raw_df dataframe has been grouped by \"album\" column  \n",
    "and then filtered and left only those albums where no_of_tracks are higher than 7."
   ]
  },
  {
   "cell_type": "code",
   "execution_count": 32,
   "metadata": {},
   "outputs": [
    {
     "name": "stdout",
     "output_type": "stream",
     "text": [
      "These are 4 albums that have more than 1 popular track: \n",
      "                   album  no_of_tracks\n",
      "0               Changes             2\n",
      "1             Fine Line             2\n",
      "2      Future Nostalgia             3\n",
      "3  Hollywood's Bleeding             2\n"
     ]
    }
   ],
   "source": [
    "albs = raw_df.groupby(\"album\").size().reset_index(name=\"no_of_tracks\")\n",
    "albs_no = albs[albs[\"no_of_tracks\"] > 1].reset_index(drop=True)\n",
    "\n",
    "print(\n",
    "    f\"These are {len(albs_no)} albums that have more than 1 popular track: \\n\", albs_no\n",
    ")"
   ]
  },
  {
   "cell_type": "markdown",
   "metadata": {},
   "source": [
    "It can be seen that there are 4 albums with 2 or 3 tracks  \n",
    "at Spotify TOP 50."
   ]
  },
  {
   "cell_type": "markdown",
   "metadata": {},
   "source": [
    "### Danceability observation"
   ]
  },
  {
   "cell_type": "markdown",
   "metadata": {},
   "source": [
    "To get tracks which have danceability above 0.7 and bellow 0.4  \n",
    "\"track_name\" column was taken and .where() function used to find  \n",
    "all dataframe rows where number of column \"danceability\" is above  \n",
    "0.7 of bellow 0.4. Also, NaN values were droped and .reset_index()  \n",
    "was used."
   ]
  },
  {
   "cell_type": "code",
   "execution_count": 33,
   "metadata": {},
   "outputs": [
    {
     "name": "stdout",
     "output_type": "stream",
     "text": [
      "These are 32 tracks where danceability is > 0.7:\n",
      " 0                                      Dance Monkey\n",
      "1                                           The Box\n",
      "2                             Roses - Imanbek Remix\n",
      "3                                   Don't Start Now\n",
      "4                      ROCKSTAR (feat. Roddy Ricch)\n",
      "5                  death bed (coffee for your head)\n",
      "6                                           Falling\n",
      "7                                              Tusa\n",
      "8                                   Blueberry Faygo\n",
      "9                          Intentions (feat. Quavo)\n",
      "10                                     Toosie Slide\n",
      "11                                           Say So\n",
      "12                                         Memories\n",
      "13                       Life Is Good (feat. Drake)\n",
      "14                 Savage Love (Laxed - Siren Beat)\n",
      "15                                      Breaking Me\n",
      "16                              everything i wanted\n",
      "17                                         Señorita\n",
      "18                                          bad guy\n",
      "19                  WAP (feat. Megan Thee Stallion)\n",
      "20                                      Sunday Best\n",
      "21                      Godzilla (feat. Juice WRLD)\n",
      "22                                   Break My Heart\n",
      "23                                         Dynamite\n",
      "24                 Supalonely (feat. Gus Dapperton)\n",
      "25    Sunflower - Spider-Man: Into the Spider-Verse\n",
      "26                                            Hawái\n",
      "27                                          Ride It\n",
      "28                                       goosebumps\n",
      "29                        RITMO (Bad Boys For Life)\n",
      "30                                       THE SCOTTS\n",
      "31                                       SICKO MODE\n",
      "Name: track_name, dtype: object\n",
      "These are 1 tracks where danceability is < 0.4:\n",
      " 0    lovely (with Khalid)\n",
      "Name: track_name, dtype: object\n"
     ]
    }
   ],
   "source": [
    "danceab1 = (\n",
    "    raw_df[\"track_name\"]\n",
    "    .where(raw_df[\"danceability\"] > 0.7)\n",
    "    .dropna()\n",
    "    .reset_index(drop=True)\n",
    ")\n",
    "danceab2 = (\n",
    "    raw_df[\"track_name\"]\n",
    "    .where(raw_df[\"danceability\"] < 0.4)\n",
    "    .dropna()\n",
    "    .reset_index(drop=True)\n",
    ")\n",
    "\n",
    "print(f\"These are {len(danceab1)} tracks where danceability is > 0.7:\\n\", danceab1)\n",
    "print(f\"These are {len(danceab2)} tracks where danceability is < 0.4:\\n\", danceab2)"
   ]
  },
  {
   "cell_type": "markdown",
   "metadata": {},
   "source": [
    "There are 32 tracks with danceability > 0.7  \n",
    "and only 1 track with danceability < 0.4."
   ]
  },
  {
   "cell_type": "markdown",
   "metadata": {},
   "source": [
    "### Loudness observation"
   ]
  },
  {
   "cell_type": "markdown",
   "metadata": {},
   "source": [
    "Loudness observation was basically the same as danceability  \n",
    "just values in .where() function were different."
   ]
  },
  {
   "cell_type": "code",
   "execution_count": 34,
   "metadata": {},
   "outputs": [
    {
     "name": "stdout",
     "output_type": "stream",
     "text": [
      "These are 19 tracks where loudness is > -5:\n",
      " 0                                   Don't Start Now\n",
      "1                                  Watermelon Sugar\n",
      "2                                              Tusa\n",
      "3                                           Circles\n",
      "4                                     Before You Go\n",
      "5                                            Say So\n",
      "6                                         Adore You\n",
      "7                            Mood (feat. iann dior)\n",
      "8                                    Break My Heart\n",
      "9                                          Dynamite\n",
      "10                 Supalonely (feat. Gus Dapperton)\n",
      "11                  Rain On Me (with Ariana Grande)\n",
      "12    Sunflower - Spider-Man: Into the Spider-Verse\n",
      "13                                            Hawái\n",
      "14                                          Ride It\n",
      "15                                       goosebumps\n",
      "16                                          Safaera\n",
      "17                                         Physical\n",
      "18                                       SICKO MODE\n",
      "Name: track_name, dtype: object\n",
      "These are 9 tracks where loudness is < -8:\n",
      " 0                  death bed (coffee for your head)\n",
      "1                                           Falling\n",
      "2                                      Toosie Slide\n",
      "3                  Savage Love (Laxed - Siren Beat)\n",
      "4                               everything i wanted\n",
      "5                                           bad guy\n",
      "6                               HIGHEST IN THE ROOM\n",
      "7                              lovely (with Khalid)\n",
      "8    If the World Was Ending - feat. Julia Michaels\n",
      "Name: track_name, dtype: object\n"
     ]
    }
   ],
   "source": [
    "loudn1 = (\n",
    "    raw_df[\"track_name\"].where(raw_df[\"loudness\"] > -5).dropna().reset_index(drop=True)\n",
    ")\n",
    "loudn2 = (\n",
    "    raw_df[\"track_name\"].where(raw_df[\"loudness\"] < -8).dropna().reset_index(drop=True)\n",
    ")\n",
    "\n",
    "print(f\"These are {len(loudn1)} tracks where loudness is > -5:\\n\", loudn1)\n",
    "print(f\"These are {len(loudn2)} tracks where loudness is < -8:\\n\", loudn2)"
   ]
  },
  {
   "cell_type": "markdown",
   "metadata": {},
   "source": [
    "The answer about loudness observation is printed out above."
   ]
  },
  {
   "cell_type": "markdown",
   "metadata": {},
   "source": [
    "### Genres observation"
   ]
  },
  {
   "cell_type": "markdown",
   "metadata": {},
   "source": [
    "To get most popular genre, repeated values of the \"genre\"  \n",
    "column was counted and the .idxmax() function printed it out.\n",
    "The same could have been done with the least popular genre  \n",
    "but another method has been chosen.  \n",
    "Total number of genres was extracted by getting unique values  \n",
    "of the \"genre\" column and then counted with len() function."
   ]
  },
  {
   "cell_type": "code",
   "execution_count": 35,
   "metadata": {},
   "outputs": [
    {
     "name": "stdout",
     "output_type": "stream",
     "text": [
      "The most popular genre with 14 tracks is: Pop\n",
      "\n",
      "Genres with only 1 song in TOP 50 are:\n",
      " Nu-disco, \n",
      "R&B/Hip-Hop alternative, \n",
      "Pop/Soft Rock, \n",
      "Pop rap, \n",
      "Hip-Hop/Trap, \n",
      "Dance-pop/Disco, \n",
      "Disco-pop, \n",
      "Dreampop/Hip-Hop/R&B, \n",
      "Alternative/reggaeton/experimental, \n",
      "Chamber pop\n",
      "\n",
      "In total there are 16 genres represented in TOP 50\n"
     ]
    }
   ],
   "source": [
    "most_genre = raw_df[\"genre\"].value_counts()\n",
    "least_genre = most_genre[most_genre == 1].index\n",
    "no_genre = len(raw_df[\"genre\"].unique())\n",
    "\n",
    "print(\n",
    "    f\"The most popular genre with {most_genre.iloc[0]} tracks is: {most_genre.idxmax()}\"\n",
    ")\n",
    "print(f\"\\nGenres with only 1 song in TOP 50 are:\\n\", \", \\n\".join(least_genre))\n",
    "print(f\"\\nIn total there are {no_genre} genres represented in TOP 50\")"
   ]
  },
  {
   "cell_type": "markdown",
   "metadata": {},
   "source": [
    "The answers are provided above. "
   ]
  },
  {
   "cell_type": "markdown",
   "metadata": {},
   "source": [
    "### Features correlation"
   ]
  },
  {
   "cell_type": "markdown",
   "metadata": {},
   "source": [
    "To get features correlation .corr() fuction was selected. Correlation was  \n",
    "performed by Pearson's method. High positively correlation was decided all the values above 0.5  \n",
    "and Higly negatively correlation respectively -0.5. No correlation features was selected  \n",
    "all absolute values with number less than 0.1."
   ]
  },
  {
   "cell_type": "code",
   "execution_count": 36,
   "metadata": {},
   "outputs": [
    {
     "name": "stdout",
     "output_type": "stream",
     "text": [
      "These are highly positively correlated features: \n",
      "            energy  loudness\n",
      "energy        NaN   0.79164\n",
      "loudness  0.79164       NaN\n",
      "\n",
      "These are highly negatively correlated features: \n",
      "                     energy  loudness  acousticness  instrumentalness\n",
      "energy                 NaN       NaN     -0.682479               NaN\n",
      "loudness               NaN       NaN           NaN         -0.553735\n",
      "acousticness     -0.682479       NaN           NaN               NaN\n",
      "instrumentalness       NaN -0.553735           NaN               NaN\n",
      "\n",
      "These are not correlated features: \n",
      "                     energy  danceability  loudness  acousticness  speechiness  \\\n",
      "energy                 NaN           NaN       NaN           NaN     0.074267   \n",
      "danceability           NaN           NaN       NaN           NaN          NaN   \n",
      "loudness               NaN           NaN       NaN           NaN    -0.021693   \n",
      "acousticness           NaN           NaN       NaN           NaN          NaN   \n",
      "speechiness       0.074267           NaN -0.021693           NaN          NaN   \n",
      "instrumentalness       NaN     -0.017706       NaN           NaN     0.028948   \n",
      "liveness          0.069487     -0.006648 -0.069939           NaN          NaN   \n",
      "valence                NaN           NaN       NaN           NaN     0.053867   \n",
      "tempo             0.075191           NaN       NaN           NaN          NaN   \n",
      "duration_ms       0.081971     -0.033763  0.064130     -0.010988          NaN   \n",
      "\n",
      "                  instrumentalness  liveness   valence     tempo  duration_ms  \n",
      "energy                         NaN  0.069487       NaN  0.075191     0.081971  \n",
      "danceability             -0.017706 -0.006648       NaN       NaN    -0.033763  \n",
      "loudness                       NaN -0.069939       NaN       NaN     0.064130  \n",
      "acousticness                   NaN       NaN       NaN       NaN    -0.010988  \n",
      "speechiness               0.028948       NaN  0.053867       NaN          NaN  \n",
      "instrumentalness               NaN -0.087034       NaN  0.018853          NaN  \n",
      "liveness                 -0.087034       NaN -0.033366  0.025457    -0.090188  \n",
      "valence                        NaN -0.033366       NaN  0.045089    -0.039794  \n",
      "tempo                     0.018853  0.025457  0.045089       NaN          NaN  \n",
      "duration_ms                    NaN -0.090188 -0.039794       NaN          NaN  \n"
     ]
    }
   ],
   "source": [
    "corr = numeric_df.corr(method=\"pearson\")\n",
    "high_corr = (\n",
    "    corr[(corr > 0.5) & (corr < 1)].dropna(axis=0, how=\"all\").dropna(axis=1, how=\"all\")\n",
    ")\n",
    "low_corr = (\n",
    "    corr[(corr < -0.5) & (corr < 1)].dropna(axis=0, how=\"all\").dropna(axis=1, how=\"all\")\n",
    ")\n",
    "not_corr = (\n",
    "    corr[(np.abs(corr) < 0.1) & (corr < 1)]\n",
    "    .dropna(axis=0, how=\"all\")\n",
    "    .dropna(axis=1, how=\"all\")\n",
    ")\n",
    "\n",
    "print(\"These are highly positively correlated features: \\n\", high_corr)\n",
    "print(\"\\nThese are highly negatively correlated features: \\n\", low_corr)\n",
    "print(\"\\nThese are not correlated features: \\n\", not_corr)"
   ]
  },
  {
   "cell_type": "markdown",
   "metadata": {},
   "source": [
    "The tables of correlation are provided above. Positively correlated features are  \n",
    "energy-loudness, while negatively correlated features are acousticness-energy,  \n",
    "instrumentalness-loudness. All other pairs of features are not correlated."
   ]
  },
  {
   "cell_type": "markdown",
   "metadata": {},
   "source": [
    "### Danceability comparison between genres"
   ]
  },
  {
   "cell_type": "code",
   "execution_count": 37,
   "metadata": {},
   "outputs": [
    {
     "name": "stdout",
     "output_type": "stream",
     "text": [
      "                   danceability  loudness  acousticness\n",
      "genre                                                  \n",
      "Pop                    0.677571 -6.460357      0.323843\n",
      "Hip-Hop/Rap            0.765538 -6.917846      0.188741\n",
      "Dance/Electronic       0.755000 -5.338000      0.099440\n",
      "Alternative/Indie      0.661750 -5.421000      0.583500\n"
     ]
    }
   ],
   "source": [
    "genres = [\"Pop\", \"Hip-Hop/Rap\", \"Dance/Electronic\", \"Alternative/Indie\"]\n",
    "danc_df = raw_df.groupby(\"genre\").agg(\n",
    "    {\"danceability\": \"mean\", \"loudness\": \"mean\", \"acousticness\": \"mean\"}\n",
    ")\n",
    "print(danc_df.loc[genres])\n",
    "\n",
    "summary = \"\"\"- Danceability avg. sore is the highest for hip-hop music\n",
    "but dance/electronic music is also near top rate. The lowest\n",
    "score is for alternative music which is lower by 0.1 in\n",
    "comparison to hip-hop.\n",
    "   - Loudness avg. score in absolute value is the highest\n",
    "for hip-hop music too. Lowest score collected is by\n",
    "alternative music.\n",
    "   - Acousticness or for the most acoustic instruments\n",
    "used goes to alternative music. The lowest score for it is\n",
    "collected by dance/electronic music.\n",
    "\n",
    "Short summary can be stated, that with louder music\n",
    "comes higher danceability rate and less acoustic instruments\n",
    "are being used. \"\"\""
   ]
  },
  {
   "cell_type": "markdown",
   "metadata": {},
   "source": [
    "- Danceability avg. sore is the highest for hip-hop music  \n",
    "but dance/electronic music is also near top rate. The lowest  \n",
    "score is for alternative music which is lower by 0.1 in  \n",
    "comparison to hip-hop.  \n",
    "- Loudness avg. score in absolute value is the highest  \n",
    "for hip-hop music too. Lowest score collected is by  \n",
    "alternative music.  \n",
    "- Acousticness or for the most acoustic instruments  \n",
    "used goes to alternative music. The lowest score for it is  \n",
    "collected by dance/electronic music.  \n",
    "  \n",
    "Short summary can be stated, that with louder music  \n",
    "comes higher danceability rate and less acoustic instruments  \n",
    "are being used."
   ]
  }
 ],
 "metadata": {
  "kernelspec": {
   "display_name": "Python 3",
   "language": "python",
   "name": "python3"
  },
  "language_info": {
   "codemirror_mode": {
    "name": "ipython",
    "version": 3
   },
   "file_extension": ".py",
   "mimetype": "text/x-python",
   "name": "python",
   "nbconvert_exporter": "python",
   "pygments_lexer": "ipython3",
   "version": "3.11.4"
  }
 },
 "nbformat": 4,
 "nbformat_minor": 2
}
